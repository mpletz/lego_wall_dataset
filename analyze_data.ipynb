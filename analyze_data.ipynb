{
 "cells": [
  {
   "cell_type": "markdown",
   "metadata": {},
   "source": [
    "# Lego wall dataset: load data and plot wall designs\n",
    "nach Meeting am 2024-07-12, symmetrische 8x7 designs (8 Noppen breit und 7 Steinhöhen hoch)"
   ]
  },
  {
   "cell_type": "code",
   "execution_count": 1,
   "metadata": {},
   "outputs": [],
   "source": [
    "import os, json\n",
    "import numpy as np\n",
    "import matplotlib.pyplot as plt"
   ]
  },
  {
   "cell_type": "code",
   "execution_count": 2,
   "metadata": {},
   "outputs": [],
   "source": [
    "with open('lego_wall_res.json','r') as f:\n",
    "    res_dict = json.load(f)"
   ]
  },
  {
   "cell_type": "code",
   "execution_count": 14,
   "metadata": {},
   "outputs": [],
   "source": [
    "res_dict;"
   ]
  },
  {
   "cell_type": "code",
   "execution_count": 40,
   "metadata": {},
   "outputs": [],
   "source": [
    "res_array = np.array([[int(key),val['E_wk'],val['E_kin'],val['E_fric'],] for key,val in res_dict.items()])"
   ]
  },
  {
   "cell_type": "markdown",
   "metadata": {},
   "source": [
    "### Designs with highest $E_{wk}$, $E_{kin}$, and $E_{fric}$ "
   ]
  },
  {
   "cell_type": "code",
   "execution_count": null,
   "metadata": {},
   "outputs": [
    {
     "data": {
      "text/plain": [
       "array([[2465.    , 1705.1619, 1461.5092,  228.0317],\n",
       "       [3157.    , 1706.9235, 1245.9888,  414.279 ],\n",
       "       [2571.    , 1736.5341, 1499.6248,  219.4206],\n",
       "       ...,\n",
       "       [2114.    , 6971.9927, 5701.4614, 1129.9875],\n",
       "       [2757.    , 7082.1768, 5787.6919, 1143.0367],\n",
       "       [2432.    , 7155.5566, 5826.0688, 1184.4623]], shape=(5281, 4))"
      ]
     },
     "execution_count": 46,
     "metadata": {},
     "output_type": "execute_result"
    }
   ],
   "source": [
    "# E_wk\n",
    "res_array[np.argsort(res_array[:,1])]"
   ]
  },
  {
   "cell_type": "code",
   "execution_count": 49,
   "metadata": {},
   "outputs": [
    {
     "data": {
      "text/plain": [
       "array([[4475.    , 2495.0208,  935.0997, 1153.9707],\n",
       "       [4360.    , 2304.2351,  950.1131, 1132.1249],\n",
       "       [4502.    , 2471.3235,  981.6004, 1127.2291],\n",
       "       ...,\n",
       "       [2757.    , 7082.1768, 5787.6919, 1143.0367],\n",
       "       [5122.    , 6924.7778, 5796.3003,  971.7935],\n",
       "       [2432.    , 7155.5566, 5826.0688, 1184.4623]], shape=(5281, 4))"
      ]
     },
     "execution_count": 49,
     "metadata": {},
     "output_type": "execute_result"
    }
   ],
   "source": [
    "# E_kin\n",
    "res_array[np.argsort(res_array[:,2])]"
   ]
  },
  {
   "cell_type": "code",
   "execution_count": 50,
   "metadata": {},
   "outputs": [
    {
     "data": {
      "text/plain": [
       "array([[2601.    , 1737.0819, 1499.2583,  218.9225],\n",
       "       [2571.    , 1736.5341, 1499.6248,  219.4206],\n",
       "       [2545.    , 1738.4836, 1501.7438,  224.238 ],\n",
       "       ...,\n",
       "       [3145.    , 5548.7573, 3021.8074, 2039.3103],\n",
       "       [3207.    , 5308.4453, 2814.397 , 2048.4253],\n",
       "       [3054.    , 5493.1191, 3002.9175, 2048.8899]], shape=(5281, 4))"
      ]
     },
     "execution_count": 50,
     "metadata": {},
     "output_type": "execute_result"
    }
   ],
   "source": [
    "# E_fric\n",
    "res_array[np.argsort(res_array[:,3])]"
   ]
  },
  {
   "cell_type": "markdown",
   "metadata": {},
   "source": [
    "## Plot the wall designs"
   ]
  },
  {
   "cell_type": "code",
   "execution_count": 8,
   "metadata": {},
   "outputs": [],
   "source": [
    "# Lego colors from bricklink (only solid colors): https://www.bricklink.com/catalogColors.asp\n",
    "cm_lego = {'Light Bluish Gray': 'a5acbf', 'Bright Green': '00c23b', 'Yellow': 'ffda32','Medium Blue': '71a4d0','Light Lime': 'e9eab8','Medium Orange': 'ff9a38','Magenta': 'b52469', 'Medium Lavender': 'c280d0'}\n",
    "\n",
    "col_dict = {1:'Light Bluish Gray',2:'Bright Green',3:'Yellow',4:'Medium Blue',\n",
    "            5:'Light Lime',6:'Medium Orange',7:'Magenta',8:'Medium Lavender'}\n",
    "\n",
    "col_set = {i:'#'+cm_lego[j] for i,j in col_dict.items()}"
   ]
  },
  {
   "cell_type": "code",
   "execution_count": 35,
   "metadata": {},
   "outputs": [],
   "source": [
    "def plot_wall(wall_des,out_name='',if_show=1):\n",
    "    b0, h0 = 8.,9.6\n",
    "\n",
    "    def get_bricks(row):\n",
    "        # function for getting brick lengths from 0,1 list (one row)\n",
    "        brick_list = []\n",
    "        i_temp = 1\n",
    "        for is_con in row:\n",
    "            if is_con == 1:\n",
    "                i_temp += 1\n",
    "            else:\n",
    "                brick_list += [i_temp]\n",
    "                i_temp = 1\n",
    "        brick_list += [i_temp]\n",
    "        return brick_list\n",
    "\n",
    "    def make_bricks(wall):\n",
    "        wall_bricks = []\n",
    "        for row in wall:\n",
    "            wall_bricks += [get_bricks(row)]\n",
    "        return wall_bricks\n",
    "\n",
    "    # also make the full design from the right side\n",
    "    wall_bricks = make_bricks(np.append(np.array(wall_des)[:,:0:-1],np.array(wall_des),axis=1))\n",
    "\n",
    "    fig, ax = plt.subplots(figsize=(0.4,0.4))\n",
    "\n",
    "    for i_row,row in enumerate(wall_bricks[::-1]):\n",
    "        x0 = 0\n",
    "        for brick_i in row:\n",
    "            ax.add_patch(plt.Rectangle((x0,i_row*h0),brick_i*b0,h0,\n",
    "                        facecolor=col_set[brick_i],edgecolor='k',linewidth=0.5))\n",
    "            x0 += brick_i*b0\n",
    "\n",
    "    plt.axis('equal')\n",
    "    plt.axis('off')\n",
    "    plt.tight_layout(pad=0)\n",
    "    if out_name != '':\n",
    "        plt.savefig(out_name+'.png',dpi=300)\n",
    "    if if_show:\n",
    "        plt.show()\n",
    "    plt.close(fig)"
   ]
  },
  {
   "cell_type": "code",
   "execution_count": 53,
   "metadata": {},
   "outputs": [
    {
     "data": {
      "image/png": "[encoded data removed]",
      "text/plain": [
       "<Figure size 40x40 with 1 Axes>"
      ]
     },
     "metadata": {},
     "output_type": "display_data"
    }
   ],
   "source": [
    "plot_wall(res_dict[str(2432)]['wall_right'],'design_max_wk_kin',1)"
   ]
  },
  {
   "cell_type": "code",
   "execution_count": 54,
   "metadata": {},
   "outputs": [
    {
     "data": {
      "image/png": "[encoded data removed]",
      "text/plain": [
       "<Figure size 40x40 with 1 Axes>"
      ]
     },
     "metadata": {},
     "output_type": "display_data"
    }
   ],
   "source": [
    "plot_wall(res_dict[str(3054)]['wall_right'],'design_max_fric',1)"
   ]
  },
  {
   "cell_type": "code",
   "execution_count": 36,
   "metadata": {},
   "outputs": [],
   "source": [
    "for key,design in res_dict.items():\n",
    "    plot_wall(design['wall_right'],'images/all_designs/design-'+key.zfill(4),0)"
   ]
  },
  {
   "cell_type": "code",
   "execution_count": null,
   "metadata": {},
   "outputs": [],
   "source": []
  }
 ],
 "metadata": {
  "kernelspec": {
   "display_name": "base",
   "language": "python",
   "name": "python3"
  },
  "language_info": {
   "codemirror_mode": {
    "name": "ipython",
    "version": 3
   },
   "file_extension": ".py",
   "mimetype": "text/x-python",
   "name": "python",
   "nbconvert_exporter": "python",
   "pygments_lexer": "ipython3",
   "version": "3.12.8"
  }
 },
 "nbformat": 4,
 "nbformat_minor": 2
}
